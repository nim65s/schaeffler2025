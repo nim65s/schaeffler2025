{
 "cells": [
  {
   "cell_type": "markdown",
   "id": "47c2e864",
   "metadata": {},
   "source": [
    "# G\u00e9om\u00e9trie inverse avec Talos : atteindre des cibles par optimisation\n",
    "\n",
    "Ce notebook pr\u00e9sente un exemple de **g\u00e9om\u00e9trie inverse** avec un robot humano\u00efde (**Talos**). L'objectif est de trouver une configuration du robot telle que **les deux mains et les deux pieds atteignent des positions cibles** donn\u00e9es dans l'espace.\n",
    "\n",
    "Le probl\u00e8me est formul\u00e9 comme une **optimisation non lin\u00e9aire**, et met en \u00e9vidence un point crucial :  \n",
    "**le quaternion de la base flottante doit toujours \u00eatre de norme 1** pour repr\u00e9senter une rotation valide.\n"
   ]
  },
  {
   "cell_type": "code",
   "execution_count": 14,
   "id": "bf48b29b-71ae-4206-8153-c0f4ce77c132",
   "metadata": {},
   "outputs": [],
   "source": [
    "import gepetuto"
   ]
  },
  {
   "cell_type": "markdown",
   "id": "b2bdb93a",
   "metadata": {},
   "source": [
    "### Chargement du robot et initialisation du visualiseur\n",
    "\n",
    "Ent\u00eate classique avec Pinocchio, example robot data et meshcat"
   ]
  },
  {
   "cell_type": "code",
   "execution_count": 2,
   "id": "fce7618c",
   "metadata": {},
   "outputs": [],
   "source": [
    "# %load tp2/generated/inverse_geometry_talos_import\n",
    "import time\n",
    "import unittest\n",
    "\n",
    "import example_robot_data as robex\n",
    "import numpy as np\n",
    "from numpy.linalg import norm\n",
    "from scipy.optimize import fmin_bfgs\n",
    "import pinocchio as pin\n",
    "\n",
    "from schaeffler2025.meshcat_viewer_wrapper import MeshcatVisualizer\n",
    "\n",
    "# --- Load robot model\n",
    "robot = robex.load(\"talos\")\n",
    "NQ = robot.model.nq\n",
    "NV = robot.model.nv\n",
    "\n",
    "# Open the viewer\n",
    "viz = MeshcatVisualizer(robot)\n",
    "viz.display(robot.q0)\n"
   ]
  },
  {
   "cell_type": "code",
   "execution_count": 3,
   "id": "9d68b4d8-ee01-400a-8c8e-75da9f47c999",
   "metadata": {},
   "outputs": [],
   "source": [
    "viz.viewer.jupyter_cell()"
   ]
  },
  {
   "cell_type": "markdown",
   "id": "4727abd0",
   "metadata": {},
   "source": [
    "### D\u00e9finition des 4 extr\u00e9mit\u00e9s \u00e0 contr\u00f4ler\n",
    "Les 4 effecteurs du robot correspondent \u00e0 4 rep\u00e8res dans la liste *frame* du mod\u00e8le."
   ]
  },
  {
   "cell_type": "code",
   "execution_count": 4,
   "id": "e9f8c8ed",
   "metadata": {},
   "outputs": [],
   "source": [
    "# %load tp2/generated/inverse_geometry_talos_1\n",
    "robot.feetIndexes = [\n",
    "    robot.model.getFrameId(frameName)\n",
    "    for frameName in [\n",
    "        \"gripper_right_fingertip_3_link\",\n",
    "        \"gripper_left_fingertip_3_link\",\n",
    "        \"right_sole_link\",\n",
    "        \"left_sole_link\",\n",
    "    ]\n",
    "]\n"
   ]
  },
  {
   "cell_type": "markdown",
   "id": "bb3ab2b3",
   "metadata": {},
   "source": [
    "### Ajout des cibles dans l\u2019environnement\n",
    "On d\u00e9finit 4 cibles \u00e0 atteindre qu'on visualise dans meshcat par des sph\u00e8res de couleurs."
   ]
  },
  {
   "cell_type": "code",
   "execution_count": 5,
   "id": "2a9df3ec",
   "metadata": {},
   "outputs": [],
   "source": [
    "# %load tp2/generated/inverse_geometry_talos_2\n",
    "# We define 4 targets, one for each leg.\n",
    "colors = [\"red\", \"blue\", \"green\", \"magenta\"]\n",
    "for color in colors:\n",
    "    viz.addSphere(\"world/%s\" % color, 0.05, color)\n",
    "    viz.addSphere(\"world/%s_des\" % color, 0.05, color)\n",
    "\n",
    "targets = [\n",
    "    np.array([-0.7, -0.2, 1.2]),\n",
    "    np.array([-0.3, 0.5, 0.8]),\n",
    "    np.array([0.3, 0.1, -1.1]),\n",
    "    np.array([0.9, 0.9, 0.5]),\n",
    "]\n",
    "# Make the targets reachable\n",
    "targets = [t * 0.6 for t in targets]\n"
   ]
  },
  {
   "cell_type": "markdown",
   "id": "5110d6c1-bda6-4c92-8b68-a9efe50cb4bc",
   "metadata": {},
   "source": [
    "Affichage des cibles dans meshcat."
   ]
  },
  {
   "cell_type": "code",
   "execution_count": 6,
   "id": "2e07ca4b-5703-4aaf-974c-9d5179563908",
   "metadata": {},
   "outputs": [],
   "source": [
    "q0 = robot.q0.copy()\n",
    "pin.framesForwardKinematics(robot.model,robot.data,q0)\n",
    "for i in range(4):\n",
    "    p_i = robot.data.oMf[robot.feetIndexes[i]]\n",
    "    viz.applyConfiguration(\"world/%s\" % colors[i], p_i)\n",
    "    viz.applyConfiguration(\n",
    "        \"world/%s_des\" % colors[i], list(targets[i]) + [1, 0, 0, 0]\n",
    "    )"
   ]
  },
  {
   "cell_type": "markdown",
   "id": "eaa72f19",
   "metadata": {},
   "source": [
    "### G\u00e9om\u00e9trie inverse comme un probl\u00e8me d'optimisation\n",
    "\n",
    "On va utiliser les fonctions d'optimisation de la librairie SciPy pour calculer une configuration du robot qui permette d'atteindre les cibles. Si besoin, une initiation \u00e0 SciPy.Optim est [disponible dans un notebook](appendix-scipy_optimizer.ipynb). Les solveurs attendent en g\u00e9n\u00e9ral trois arguments:\n",
    "- une fonction de co\u00fbt, de l'espace de recherche $x$ vers un scalaire $f: x \\rightarrow f(x) \\in \\mathbb{R}$\n",
    "- une valeur initiale du vecteur de d\u00e9cisions $x_0$\n",
    "- optionnellement, une fonction de callback pour afficher des infos manuellements, qui prend une valeur du vecteur de d\u00e9cision en entr\u00e9e et ne retourne rien.\n"
   ]
  },
  {
   "cell_type": "markdown",
   "id": "60f9e08a-6d2a-491d-a8de-0d16a725d455",
   "metadata": {},
   "source": [
    "#### Fonction de co\u00fbt\n",
    "\n",
    "Compl\u00e9ter le template suivant pour impl\u00e9menter le co\u00fbt:\n",
    "$$ c(q) = \\sum_{i=0}^{i<4}  || p_i(q) - p_i^* ||^2$$ \n",
    "avec $p_i(q)$ qu'on obtient de la liste *model.frames[feetIndexes[i]]* et $p_i^*$ qui est la translation de la cible. "
   ]
  },
  {
   "cell_type": "code",
   "execution_count": 7,
   "id": "8c7b0c9d-9af4-47a8-b582-72ce5adea0b7",
   "metadata": {},
   "outputs": [],
   "source": [
    "def cost(q):\n",
    "    \"\"\"\n",
    "    Compute score from a configuration: sum of the 4 reaching\n",
    "    tasks, one for each leg.\n",
    "    \"\"\"\n",
    "    pin.framesForwardKinematics(robot.model,robot.data,q)\n",
    "    for i in range(4):\n",
    "        p_i = robot.data.oMf[robot.feetIndexes[i]].translation\n",
    "        print(p_i,targets[i])\n",
    "    return 0\n"
   ]
  },
  {
   "cell_type": "markdown",
   "id": "89de9c96-ebb6-4704-bbb4-966bd97329f4",
   "metadata": {},
   "source": [
    "Si besoin, voici la solution."
   ]
  },
  {
   "cell_type": "code",
   "execution_count": 17,
   "id": "a8e3e6b8-0aba-49ad-9bda-f4f6035af2b8",
   "metadata": {},
   "outputs": [],
   "source": [
    "%do_not_load_snippet tp2/generated/inverse_geometry_talos_cost"
   ]
  },
  {
   "cell_type": "markdown",
   "id": "de44c8e8-be1f-4dd6-9d3a-538ab418503e",
   "metadata": {},
   "source": [
    "#### Callback\n",
    "En utilisant le m\u00eame mod\u00e8le, impl\u00e9mentez une fonction affichant la configuration candidate et les sph\u00e8res."
   ]
  },
  {
   "cell_type": "code",
   "execution_count": 16,
   "id": "b70a4bf6-ddad-401d-8f49-62382343d8c2",
   "metadata": {},
   "outputs": [],
   "source": [
    "%do_not_load_snippet tp2/generated/inverse_geometry_talos_callback"
   ]
  },
  {
   "cell_type": "markdown",
   "id": "33b74779-82ec-4972-94a1-c9ec94d09152",
   "metadata": {},
   "source": [
    "#### Optimisation\n",
    "L'optimisateur s'appelle de cette mani\u00e8re."
   ]
  },
  {
   "cell_type": "code",
   "execution_count": 10,
   "id": "03fcd8f2-4dfd-4e7f-b7a3-77501398e872",
   "metadata": {},
   "outputs": [],
   "source": [
    "# %load tp2/generated/inverse_geometry_talos_optim\n",
    "qopt = fmin_bfgs(cost, robot.q0, callback=callback)\n"
   ]
  },
  {
   "cell_type": "markdown",
   "id": "e7d20c53-5547-44d8-988f-5bc0a6a763d9",
   "metadata": {},
   "source": [
    "## Le probl\u00e8me, c'est qu'il y a un probl\u00e8me ...\n",
    "La solution trouv\u00e9e est acceptable, mais il y a un bogue cach\u00e9. Il devient apparent si on \u00e9carte plus les cibles."
   ]
  },
  {
   "cell_type": "code",
   "execution_count": 12,
   "id": "6b1a6b30-1433-4ada-83a2-52eb8e2cce2a",
   "metadata": {},
   "outputs": [],
   "source": [
    "targets = [t / 0.6 for t in targets ]\n",
    "qopt = fmin_bfgs(cost, robot.q0, callback=callback)\n",
    "viz.display(qopt)"
   ]
  },
  {
   "cell_type": "markdown",
   "id": "813a6f9d-0187-493e-a01b-ce439246aed9",
   "metadata": {},
   "source": [
    "Que se passe-t-il ? Pourquoi ? Comment y rem\u00e9dier ?"
   ]
  }
 ],
 "metadata": {
  "kernelspec": {
   "display_name": "Python 3 (ipykernel)",
   "language": "python",
   "name": "python3"
  },
  "language_info": {
   "codemirror_mode": {
    "name": "ipython",
    "version": 3
   },
   "file_extension": ".py",
   "mimetype": "text/x-python",
   "name": "python",
   "nbconvert_exporter": "python",
   "pygments_lexer": "ipython3",
   "version": "3.10.12"
  }
 },
 "nbformat": 4,
 "nbformat_minor": 5
}
