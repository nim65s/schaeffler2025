{
 "cells": [
  {
   "cell_type": "markdown",
   "id": "785019f1-5baf-46d1-a721-5311340f25c8",
   "metadata": {},
   "source": [
    "# Cinématique inverse\n",
    "\n",
    "Ce notebook explore la génération de mouvements pour un robot humanoïde en utilisant la **cinématique inverse**.  \n",
    "L'exercice consiste à générer une trajectoire où :\n",
    "- Le **centre de masse (CoM)** du robot suit une trajectoire à vitesse constante.\n",
    "- Les **pieds** (gauche et droit) effectuent des **déplacements alternés**, comme lors d'une marche, également à vitesse constante.\n",
    "\n",
    "Nous utiliserons pour cela une approche **cinématique**, sans résolution dynamique, et enchaînerons des tâches résolues via pseudo-inversion du jacobien (commande à vitesse).\n",
    "\n",
    "Le mouvement sera composé de plusieurs **phases**, alternant appui gauche et appui droit."
   ]
  },
  {
   "cell_type": "code",
   "execution_count": null,
   "id": "5f80b0f1-7ea7-4731-8b61-e2657c223e28",
   "metadata": {},
   "outputs": [],
   "source": [
    "import gepetuto"
   ]
  },
  {
   "cell_type": "markdown",
   "id": "6ba88347-5087-44bf-bc16-6d892c14ef2d",
   "metadata": {
    "jp-MarkdownHeadingCollapsed": true
   },
   "source": [
    "## Chargement du robot et initialisation du visualiseur\n",
    "\n",
    "Entête classique avec Pinocchio, example robot data et meshcat"
   ]
  },
  {
   "cell_type": "code",
   "execution_count": null,
   "id": "32fe35f7-896d-4778-b839-267b4796c0e0",
   "metadata": {},
   "outputs": [],
   "source": [
    "# %load tp3/generated/fake_walk_import\n",
    "import time\n",
    "from collections import namedtuple\n",
    "\n",
    "import example_robot_data as robex\n",
    "import numpy as np\n",
    "import pinocchio as pin\n",
    "from numpy.linalg import pinv\n",
    "\n",
    "from schaeffler2025.meshcat_viewer_wrapper import MeshcatVisualizer\n",
    "\n",
    "# --- Load robot model\n",
    "robot = robex.load(\"talos\")\n",
    "model = robot.model\n",
    "data = model.createData()\n",
    "NQ = model.nq\n",
    "NV = model.nv\n",
    "\n",
    "# Open the viewer\n",
    "viz = MeshcatVisualizer(robot)\n",
    "viz.display(robot.q0)\n",
    "feetIndexes = {\n",
    "    \"right\": robot.model.getFrameId(\"right_sole_link\"),\n",
    "    \"left\": robot.model.getFrameId(\"left_sole_link\"),\n",
    "}\n"
   ]
  },
  {
   "cell_type": "markdown",
   "id": "47e993c2-3e27-4d47-90a8-50dbcf263e6f",
   "metadata": {
    "jp-MarkdownHeadingCollapsed": true
   },
   "source": [
    "## Une marche approximative comme exemple\n",
    "\n",
    "On définit une marche bipède comme une succession de phase de marche, chacune définissant:\n",
    "- la durée de la phase\n",
    "- le pied de support droit ou gauche (éventuellement *double* ou *none* dans des cas plus complexes)\n",
    "- l'avancement du pied de vol par rapport à\n"
   ]
  },
  {
   "cell_type": "code",
   "execution_count": null,
   "id": "1c86d0a6-b867-4463-903b-574cc696ffda",
   "metadata": {},
   "outputs": [],
   "source": [
    "# %load tp3/generated/fake_walk_phases\n",
    "# Structure to define a phase of locomotion\n",
    "Phase = namedtuple(\"Phase\", [\"duration\", \"delta\", \"support\"])\n",
    "\n",
    "# Definition of the task\n",
    "comVelocity = np.array([0.7, 0, 0])\n",
    "stepDuration = 0.8\n",
    "step = comVelocity[:2] * stepDuration * 2\n",
    "phases = [\n",
    "    Phase(stepDuration / 2, step / 2, \"right\"),\n",
    "    Phase(stepDuration, step, \"left\"),\n",
    "    Phase(stepDuration, step, \"right\"),\n",
    "    Phase(stepDuration, step, \"left\"),\n",
    "    Phase(stepDuration, step, \"right\"),\n",
    "    Phase(stepDuration / 2, step / 2, \"left\"),\n",
    "]\n",
    "DT = 1e-2\n"
   ]
  },
  {
   "cell_type": "markdown",
   "id": "c5a0ef45-5392-4eae-86e5-13787583671d",
   "metadata": {
    "jp-MarkdownHeadingCollapsed": true
   },
   "source": [
    "## Cinématique inverse\n",
    "\n",
    "À chaque instant de chaque phase, calculer la vitesse du robot à partir des éléments suivant:\n",
    "- le COM avance à vitesse constante *comVelocity*\n",
    "- le pied de support est à vitesse nulle\n",
    "- le pied de vol avance à vitesse constante *phase.delta/phase.duration*\n",
    "\n",
    "Vous pouvez calculer la cinématique directe avec la syntaxte suivante."
   ]
  },
  {
   "cell_type": "code",
   "execution_count": null,
   "id": "8cea5802-01e3-4bf1-a9df-b458dd9821ef",
   "metadata": {},
   "outputs": [],
   "source": [
    "q = robot.q0.copy()\n",
    "\n",
    "# Effectue la plupart des calculs nécessaires\n",
    "pin.computeAllTerms(model, data, q, np.zeros(NV))\n",
    "\n",
    "# Jacobien d'un repère opérationel\n",
    "J_rf = pin.getFrameJacobian(model, data, feetIndexes[\"right\"], pin.LOCAL)\n",
    "\n",
    "# Jacobien du COM\n",
    "J_com = pin.jacobianCenterOfMass(model, data, q)\n"
   ]
  },
  {
   "cell_type": "markdown",
   "id": "838a2cb0-ff40-4e73-ba4b-d5746d59c6d3",
   "metadata": {},
   "source": [
    "La pseudo-inverse est définie dans numpy.linalg."
   ]
  },
  {
   "cell_type": "code",
   "execution_count": null,
   "id": "d19e05df-50d9-4f32-8ec8-53fda3c36a57",
   "metadata": {},
   "outputs": [],
   "source": [
    "pinv(np.random.rand(3,5))"
   ]
  },
  {
   "cell_type": "markdown",
   "id": "c9c67af7-2184-4e55-b7d3-e36fcbdfbd52",
   "metadata": {},
   "source": [
    "La cinématique inverse doit être implémenté dans une boucle correspondant au template suivant:"
   ]
  },
  {
   "cell_type": "code",
   "execution_count": null,
   "id": "42b91621-805b-41ad-98b7-116e53df291f",
   "metadata": {},
   "outputs": [],
   "source": [
    "q = robot.q0.copy()\n",
    "for phase in phases:\n",
    "    for t in np.arange(0, phase.duration, DT):\n",
    "        # Pre-compute kinematics, jacobians, com etc\n",
    "        pin.computeAllTerms(model, data, q, np.zeros(NV))\n",
    "\n",
    "        vq = np.zeros(NV) ### TODO\n",
    "        \n",
    "        q = pin.integrate(model, q, vq * DT)\n",
    "        viz.display(q)\n",
    "        time.sleep(DT)\n"
   ]
  },
  {
   "cell_type": "markdown",
   "id": "44955c01-1353-4c83-b993-e5530bb1666d",
   "metadata": {},
   "source": [
    "La solution est ci dessous ci nécessaire."
   ]
  },
  {
   "cell_type": "code",
   "execution_count": null,
   "id": "0d73b186-96a3-4dd5-9021-36be47d782a1",
   "metadata": {},
   "outputs": [],
   "source": [
    "%do_not_load tp3/generated/fake_walk_ik"
   ]
  }
 ],
 "metadata": {
  "kernelspec": {
   "display_name": "Python 3 (ipykernel)",
   "language": "python",
   "name": "python3"
  },
  "language_info": {
   "codemirror_mode": {
    "name": "ipython",
    "version": 3
   },
   "file_extension": ".py",
   "mimetype": "text/x-python",
   "name": "python",
   "nbconvert_exporter": "python",
   "pygments_lexer": "ipython3",
   "version": "3.10.12"
  }
 },
 "nbformat": 4,
 "nbformat_minor": 5
}
