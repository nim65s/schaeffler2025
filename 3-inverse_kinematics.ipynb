{
 "cells": [
  {
   "cell_type": "markdown",
   "id": "785019f1-5baf-46d1-a721-5311340f25c8",
   "metadata": {},
   "source": [
    "# Cin\u00e9matique inverse\n",
    "\n",
    "Ce notebook explore la g\u00e9n\u00e9ration de mouvements pour un robot humano\u00efde en utilisant la **cin\u00e9matique inverse**.  \n",
    "L'exercice consiste \u00e0 g\u00e9n\u00e9rer une trajectoire o\u00f9 :\n",
    "- Le **centre de masse (CoM)** du robot suit une trajectoire \u00e0 vitesse constante.\n",
    "- Les **pieds** (gauche et droit) effectuent des **d\u00e9placements altern\u00e9s**, comme lors d'une marche, \u00e9galement \u00e0 vitesse constante.\n",
    "\n",
    "Nous utiliserons pour cela une approche **cin\u00e9matique**, sans r\u00e9solution dynamique, et encha\u00eenerons des t\u00e2ches r\u00e9solues via pseudo-inversion du jacobien (commande \u00e0 vitesse).\n",
    "\n",
    "Le mouvement sera compos\u00e9 de plusieurs **phases**, alternant appui gauche et appui droit."
   ]
  },
  {
   "cell_type": "code",
   "execution_count": 1,
   "id": "5f80b0f1-7ea7-4731-8b61-e2657c223e28",
   "metadata": {},
   "outputs": [],
   "source": [
    "import gepetuto"
   ]
  },
  {
   "cell_type": "markdown",
   "id": "6ba88347-5087-44bf-bc16-6d892c14ef2d",
   "metadata": {},
   "source": [
    "### Chargement du robot et initialisation du visualiseur\n",
    "\n",
    "Ent\u00eate classique avec Pinocchio, example robot data et meshcat"
   ]
  },
  {
   "cell_type": "code",
   "execution_count": null,
   "id": "32fe35f7-896d-4778-b839-267b4796c0e0",
   "metadata": {},
   "outputs": [],
   "source": [
    "%load tp4/gener"
   ]
  }
 ],
 "metadata": {
  "kernelspec": {
   "display_name": "Python 3 (ipykernel)",
   "language": "python",
   "name": "python3"
  },
  "language_info": {
   "codemirror_mode": {
    "name": "ipython",
    "version": 3
   },
   "file_extension": ".py",
   "mimetype": "text/x-python",
   "name": "python",
   "nbconvert_exporter": "python",
   "pygments_lexer": "ipython3",
   "version": "3.10.12"
  }
 },
 "nbformat": 4,
 "nbformat_minor": 5
}
