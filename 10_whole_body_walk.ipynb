{
 "cells": [
  {
   "cell_type": "markdown",
   "metadata": {},
   "source": [
    "##  Whole-body locomotion \n",
    "\n",
    "The objective of this exercise is to demonstrate the capabilities of Crocoddyl to generate gaited locomotion patterns. We use for that some wrapping scripts defined in Crocoddyl. They have later been extended into the [https://gitlab.laas.fr/memory-of-motion/sobec](Sobec package), which you can also consider."
   ]
  },
  {
   "cell_type": "markdown",
   "metadata": {
    "jp-MarkdownHeadingCollapsed": true
   },
   "source": [
    "## Set up"
   ]
  },
  {
   "cell_type": "code",
   "execution_count": null,
   "metadata": {},
   "outputs": [],
   "source": []
  },
  {
   "cell_type": "markdown",
   "metadata": {},
   "source": [
    "The tuto is based on Crocoddyl, we don't need anything new."
   ]
  },
  {
   "cell_type": "code",
   "execution_count": null,
   "metadata": {},
   "outputs": [],
   "source": [
    "import example_robot_data\n",
    "import numpy as np\n",
    "import pinocchio\n",
    "import crocoddyl\n",
    "from crocoddyl.utils.biped import SimpleBipedGaitProblem"
   ]
  },
  {
   "cell_type": "markdown",
   "metadata": {},
   "source": [
    "## Problem definition\n",
    "The optimal control problem enforces the gait, i.e. the contact phases for each time step are defined beforehand and cannot be changed by the solver.\n",
    "The dynamics is the solution to the \"Gauss principled\" QP:"
   ]
  },
  {
   "cell_type": "markdown",
   "metadata": {},
   "source": [
    "$$\n",
    "\\left[\\begin{matrix}\n",
    " \\mathbf{M} & \\mathbf{J}^{\\top}_c \\\\\n",
    " {\\mathbf{J}_{c}} & \\mathbf{0} \\\\\n",
    "\\end{matrix}\\right]\n",
    "\\left[\\begin{matrix}\n",
    " \\dot{\\mathbf{v}} \\\\ -\\boldsymbol{\\lambda}\n",
    "\\end{matrix}\\right]\n",
    " = \n",
    "\\left[\\begin{matrix}\n",
    "  \\boldsymbol{\\tau} - \\mathbf{h} \\\\\n",
    "  -\\dot{\\mathbf{J}}_c \\mathbf{v} \\\\\n",
    "\\end{matrix}\\right]$$."
   ]
  },
  {
   "cell_type": "markdown",
   "metadata": {},
   "source": [
    "Base on a predefined walking gait, we build per each phase a specific multi-contact dynamics. Indeed we need to describe multi-phase optimal control problem. One can formulate the multi-contact optimal control problem (MCOP) as follows:\n",
    "\n",
    "\n",
    "$$\\mathbf{X}^*,\\mathbf{U}^*=\n",
    "\\begin{Bmatrix} \\mathbf{x}^*_0,\\cdots,\\mathbf{x}^*_N \\\\\n",
    "\t\t\t\t  \\mathbf{u}^*_0,\\cdots,\\mathbf{u}^*_N\n",
    "\\end{Bmatrix} =\n",
    "\\arg\\min_{\\mathbf{X},\\mathbf{U}} \\sum_{p=0}^P \\sum_{k=1}^{N(p)} l_p(\\mathbf{x},\\mathbf{u})$$\n",
    "subject to\n",
    "$$ \\mathbf{{x_{t+1}}} = \\mathbf{f}_t(\\mathbf{x},\\mathbf{u}), \\text{for } t \\in [1..N]$$\n",
    "\n",
    "where $\\mathbf{f}$ is the solution to the Gauss QP above."
   ]
  },
  {
   "attachments": {},
   "cell_type": "markdown",
   "metadata": {},
   "source": [
    "`SimpleBipedGaitProblem` class builds action models for each locomotion phase:\n",
    "  - `createSwingFootModel`: defines an action model for the swing phase\n",
    "  - `createFootSwitchModel`: defines an action model for switch knots between phases\n",
    "  \n",
    "Then we build a walking by combining a set of contact phases and their contact switches. This is defined by `createFootstepModel`\n",
    "\n",
    "Now let's create a walking OC problem for the Talos legs."
   ]
  },
  {
   "cell_type": "markdown",
   "metadata": {
    "jp-MarkdownHeadingCollapsed": true
   },
   "source": [
    "## Implementation"
   ]
  },
  {
   "cell_type": "markdown",
   "metadata": {},
   "source": [
    "The problem is defined from a set of parameter describing the expected walk."
   ]
  },
  {
   "cell_type": "code",
   "execution_count": null,
   "metadata": {},
   "outputs": [],
   "source": [
    "# Creating the lower-body part of Talos\n",
    "robot = example_robot_data.load(\"talos_legs\")\n",
    "\n",
    "# Setting up the 3d walking problem\n",
    "rightFoot = \"right_sole_link\"\n",
    "leftFoot = \"left_sole_link\"\n",
    "\n",
    "# Create the initial state\n",
    "q0 = robot.q0.copy()\n",
    "v0 = pinocchio.utils.zero(robot.model.nv)\n",
    "x0 = np.concatenate([q0, v0])\n",
    "\n",
    "\n",
    "# Creating the walking problem\n",
    "stepLength = 0.6  # meters\n",
    "stepHeight = 0.1  # meters\n",
    "timeStep = 0.0375  # seconds\n",
    "stepKnots = 20\n",
    "supportKnots = 10"
   ]
  },
  {
   "cell_type": "markdown",
   "metadata": {},
   "source": [
    "We gathered the details of the implementation of the OCP in the SimpleBipedGaitProblem class, located in the [repository of Crocoddyl](https://github.com/loco-3d/crocoddyl/blob/devel/bindings/python/crocoddyl/utils/biped.py)."
   ]
  },
  {
   "cell_type": "code",
   "execution_count": null,
   "metadata": {},
   "outputs": [],
   "source": [
    "gait = SimpleBipedGaitProblem(robot.model, rightFoot, leftFoot)\n",
    "problem = gait.createWalkingProblem(\n",
    "    x0, stepLength, stepHeight, timeStep, stepKnots, supportKnots\n",
    ")"
   ]
  },
  {
   "cell_type": "markdown",
   "metadata": {},
   "source": [
    "You can take a look at the resulting OCP by scrolling inside the nested models. Alternativelly, you can use the convenient \"repr\" functions to display the OCP with all details as a string."
   ]
  },
  {
   "cell_type": "code",
   "execution_count": null,
   "metadata": {},
   "outputs": [],
   "source": [
    "from tp10.repr_ocp import printReprProblem\n",
    "np.set_printoptions(precision=3, linewidth=350, suppress=True,threshold=1e4)\n"
   ]
  },
  {
   "cell_type": "code",
   "execution_count": null,
   "metadata": {},
   "outputs": [],
   "source": [
    "printReprProblem(problem)"
   ]
  },
  {
   "cell_type": "markdown",
   "metadata": {
    "jp-MarkdownHeadingCollapsed": true
   },
   "source": [
    "## Solve and display"
   ]
  },
  {
   "cell_type": "markdown",
   "metadata": {},
   "source": [
    "The solve of the problem is classical, we use the FDDP solver."
   ]
  },
  {
   "cell_type": "code",
   "execution_count": null,
   "metadata": {},
   "outputs": [],
   "source": [
    "# Solving the 3d walking problem using Feasibility-prone DDP\n",
    "ddp = crocoddyl.SolverFDDP(problem)\n",
    "\n",
    "# Using the meshcat displayer, you could enable gepetto viewer for nicer view\n",
    "# display = crocoddyl.GepettoDisplay(robot, 4, 4)\n",
    "ddp.setCallbacks(\n",
    "    [\n",
    "        crocoddyl.CallbackLogger(),\n",
    "        crocoddyl.CallbackVerbose(),\n",
    "    ]\n",
    ")"
   ]
  },
  {
   "cell_type": "code",
   "execution_count": null,
   "metadata": {},
   "outputs": [],
   "source": [
    "# Solve the optimal control problem\n",
    "ddp.th_stop = 1e-9\n",
    "init_xs = [x0] * (problem.T + 1)\n",
    "init_us = []\n",
    "ddp.solve(init_xs, init_us, maxiter=100, is_feasible=False)"
   ]
  },
  {
   "cell_type": "markdown",
   "metadata": {},
   "source": [
    "The convergence of the solver should be quite straight-forward, feew steps, mostly of length 1, converging to nearly 0 gradient."
   ]
  },
  {
   "cell_type": "code",
   "execution_count": null,
   "metadata": {},
   "outputs": [],
   "source": [
    "# Plotting the solution and the DDP convergence\n",
    "log = ddp.getCallbacks()[0]\n",
    "crocoddyl.plotConvergence(\n",
    "    log.costs, log.pregs, log.dregs, log.grads, log.stops, log.steps\n",
    ")"
   ]
  },
  {
   "attachments": {},
   "cell_type": "markdown",
   "metadata": {},
   "source": [
    "Finally we can visualize the solution."
   ]
  },
  {
   "cell_type": "code",
   "execution_count": null,
   "metadata": {},
   "outputs": [],
   "source": [
    "from schaeffler2025.meshcat_viewer_wrapper import MeshcatVisualizer\n",
    "viz = MeshcatVisualizer(robot)\n",
    "viz.display(robot.q0)\n",
    "viz.viewer.jupyter_cell()"
   ]
  },
  {
   "cell_type": "code",
   "execution_count": null,
   "metadata": {},
   "outputs": [],
   "source": [
    "viz.play([x[:robot.model.nq] for x in ddp.xs],timeStep)"
   ]
  }
 ],
 "metadata": {
  "kernelspec": {
   "display_name": "Python 3 (ipykernel)",
   "language": "python",
   "name": "python3"
  },
  "language_info": {
   "codemirror_mode": {
    "name": "ipython",
    "version": 3
   },
   "file_extension": ".py",
   "mimetype": "text/x-python",
   "name": "python",
   "nbconvert_exporter": "python",
   "pygments_lexer": "ipython3",
   "version": "3.10.12"
  }
 },
 "nbformat": 4,
 "nbformat_minor": 4
}
