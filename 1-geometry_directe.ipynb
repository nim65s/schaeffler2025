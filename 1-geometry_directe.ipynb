{
 "cells": [
  {
   "cell_type": "markdown",
   "id": "74e17c0d",
   "metadata": {},
   "source": [
    "# Géométrie directe\n",
    "\n",
    "Ce notebook explore le concept de **géométrie directe** en robotique en utilisant le robot **Talos** et la bibliothèque **Pinocchio**.\n",
    "\n",
    "Nous allons visualiser comment l'effecteur du robot peut :\n",
    "- Maintenir une contrainte **3D rigide** avec une sphère placée dans l’espace.\n",
    "- Maintenir une contrainte **6D rigide** (position + orientation) avec un objet.\n"
   ]
  },
  {
   "cell_type": "code",
   "execution_count": null,
   "id": "a23af6b3-7873-4df5-b2ec-d3b18154698d",
   "metadata": {},
   "outputs": [],
   "source": [
    "import gepetuto.magic"
   ]
  },
  {
   "cell_type": "markdown",
   "id": "0a77cb65-26e1-43f9-b658-1abb87881209",
   "metadata": {},
   "source": [
    "### 1. Chargement du robot et de la visualisation\n",
    "Pinocchio permet de charger des modèles sous plusieurs formats. Ici, nous utilisons un modèle URDF du robot Talos. Il est maintenu dans une petite collection de modèle, facilement accessible avec PyPI: example robot data."
   ]
  },
  {
   "cell_type": "code",
   "execution_count": null,
   "id": "4f3f1881-4102-4df8-9015-5efe6a72c475",
   "metadata": {},
   "outputs": [],
   "source": [
    "# %load tp1/generated/handstand_1\n",
    "import time\n",
    "import unittest\n",
    "\n",
    "import example_robot_data as robex\n",
    "import numpy as np\n",
    "import pinocchio as pin\n",
    "\n",
    "from schaeffler2025.meshcat_viewer_wrapper import MeshcatVisualizer, colors\n",
    "\n",
    "robot = robex.load(\"talos\")\n",
    "NQ = robot.model.nq\n",
    "NV = robot.model.nv\n"
   ]
  },
  {
   "cell_type": "markdown",
   "id": "6f8bf308-b494-4ddb-8384-e01276d2e7e8",
   "metadata": {},
   "source": [
    "On utilise MeshCat pour afficher le robot. MeshCat permet un rendu WebGL, ce qui est très pratique pour des notebooks, même si ses fonctionnalités sont limitées."
   ]
  },
  {
   "cell_type": "code",
   "execution_count": null,
   "id": "3c253915",
   "metadata": {},
   "outputs": [],
   "source": [
    "viz = MeshcatVisualizer(robot)\n"
   ]
  },
  {
   "cell_type": "code",
   "execution_count": null,
   "id": "94fa0ac0-b336-4239-bbc8-61e1596e836f",
   "metadata": {
    "scrolled": true
   },
   "outputs": [],
   "source": [
    "viz.viewer.jupyter_cell()"
   ]
  },
  {
   "cell_type": "markdown",
   "id": "04e5ab09-66ba-49c9-b693-bbb5f731cfbf",
   "metadata": {},
   "source": [
    "La configuration d'un robot dans Pinocchio est toujours organisée en suivant la profondeur de l'arbre cinématique. Les degrés de liberté du bassin \"flottant\" viennent donc en premier. Les 3 premiers coefficients sont pour la translation. Puis vient la rotation sous forme d'un quaternion. On a ensuite les autres axes. Une posture valide est disponible dans robot.q0 (la configuration \"half-sitting\")."
   ]
  },
  {
   "cell_type": "code",
   "execution_count": null,
   "id": "acf0f714-475a-48b4-b8f4-6104e5902b33",
   "metadata": {},
   "outputs": [],
   "source": [
    "viz.display(robot.q0)"
   ]
  },
  {
   "cell_type": "markdown",
   "id": "df5893fa-0e35-4ac8-9b2d-527121134f24",
   "metadata": {},
   "source": [
    "L'organisation des axes est décrite dans le modèle:"
   ]
  },
  {
   "cell_type": "code",
   "execution_count": null,
   "id": "a3c8fc6a-b0e7-478c-b5db-e0599eea4b99",
   "metadata": {},
   "outputs": [],
   "source": [
    "for n in robot.model.names:\n",
    "    print(n)"
   ]
  },
  {
   "cell_type": "markdown",
   "id": "f4f0608a",
   "metadata": {},
   "source": [
    "### 2. Ajout d'un objet dans meshcat: une sphère\n",
    "MeshCat permet aussi d'afficher d'autres objets non décrits dans le modèle. On précise leur placement (6D) par un vecteur xyz-quaternion."
   ]
  },
  {
   "cell_type": "code",
   "execution_count": null,
   "id": "0561cf7c",
   "metadata": {},
   "outputs": [],
   "source": [
    "# %load tp1/generated/handstand_2\n",
    "\n",
    "# Ajout d'une sphère rouge dans le monde\n",
    "ballID = \"world/ball\"\n",
    "viz.addSphere(ballID, 0.1, colors.red)\n",
    "\n",
    "# Position de la sphère : coordonnées (x, y, z) + quaternion identité\n",
    "q_ball = [0.5, 0.1, 1.2, 1, 0, 0, 0]\n",
    "viz.applyConfiguration(ballID, q_ball)"
   ]
  },
  {
   "cell_type": "markdown",
   "id": "ef15d094",
   "metadata": {},
   "source": [
    "### 3. Position initiale du robot pour \"saisir\" l'objet\n",
    "Pour illustrer le concept de géometrie directe, essayez de choisir une configuration du robot telle que la main du robot apparaisse saisir la sphère."
   ]
  },
  {
   "cell_type": "code",
   "execution_count": null,
   "id": "1b961611",
   "metadata": {},
   "outputs": [],
   "source": [
    "q0 = robot.q0.copy()\n",
    "q0[12:15] = [1,2,3]\n",
    "viz.display(q0)"
   ]
  },
  {
   "cell_type": "markdown",
   "id": "d925e049-40bf-4563-bc23-7fa7bb7a9db5",
   "metadata": {},
   "source": [
    "Voici la solution si besoin."
   ]
  },
  {
   "cell_type": "code",
   "execution_count": null,
   "id": "ab555280-9105-4b7d-be39-681ab0c4c60f",
   "metadata": {},
   "outputs": [],
   "source": [
    "%do_not_load_snippet tp1/generated/handstand_3"
   ]
  },
  {
   "cell_type": "markdown",
   "id": "ba8613ef",
   "metadata": {},
   "source": [
    "### 4. Mouvement du robot avec contrainte **3D rigide**"
   ]
  },
  {
   "cell_type": "markdown",
   "id": "4fdaeeb1-0e8f-4b2b-ab04-fdf93bcce735",
   "metadata": {},
   "source": [
    "La géométrie directe permet de calculer l'emplacement de la sphère permettant d'assurer que le rapport entre l'effecteur et l'objet reste constant.  \n",
    "Mathématiquement, cela s'écrit:\n",
    "\n",
    "$$^OEB(q) = ^OOB(q) - ^OOE = constante$$\n",
    "\n",
    "Connaissant $^OEB$ à la configuration initiale et $^OOB(q)$ à chaque itération, on en déduit alors $^OOE$.\n",
    "\n",
    "Remplissez le template suivant pour assurer cette constante. "
   ]
  },
  {
   "cell_type": "code",
   "execution_count": null,
   "id": "bb9a7608-ec1f-458b-8fe8-ba6d3a111b98",
   "metadata": {},
   "outputs": [],
   "source": [
    "idx = robot.model.getFrameId(\"gripper_right_fingertip_3_link\")\n",
    "pin.framesForwardKinematics(robot.model, robot.data, q0)\n",
    "# Position of end-eff wrt world at current configuration\n",
    "o_eff = robot.data.oMf[idx].translation\n",
    "o_ball = q_ball[:3]  # Position of ball wrt world\n",
    "\n",
    "delta = np.random.rand(robot.model.nq - 7) * 0.2 - 0.1\n",
    "delta[:12] = 0  # Do not move the legs\n",
    "for t in range(5):\n",
    "    # Chose new configuration of the robot\n",
    "    q = q0.copy()\n",
    "    q[7:] = q0[7:] + np.sin(3.14 * t / 100.0) * delta\n",
    "\n",
    "    # Gets the new position of the ball\n",
    "    pin.framesForwardKinematics(robot.model, robot.data, q)\n",
    "    print('Placement de la main: ',  robot.data.oMf[idx] )\n",
    "\n",
    "    # Choisissez une position pour la sphère\n",
    "    o_ball = np.random.rand(3)\n",
    "\n",
    "    \n",
    "    # Display new configuration for robot and ball\n",
    "    viz.applyConfiguration(ballID, o_ball.tolist() + [1, 0, 0, 0])\n",
    "    viz.display(q)\n",
    "    time.sleep(1e-2)\n"
   ]
  },
  {
   "cell_type": "markdown",
   "id": "95a8882d-3eb3-479d-95c1-69c86864cd65",
   "metadata": {},
   "source": [
    "Voici la solution si besoin."
   ]
  },
  {
   "cell_type": "code",
   "execution_count": null,
   "id": "5736683e-b27a-4484-9638-f1b4e467ce73",
   "metadata": {},
   "outputs": [],
   "source": [
    "%do_not_load_snippet tp1/generated/handstand_4"
   ]
  },
  {
   "cell_type": "markdown",
   "id": "3a4e4c53-0f31-4131-9a2b-d0a78b9d7bdd",
   "metadata": {},
   "source": [
    "### 5. Avec une contrainte 6D (position + orientation)"
   ]
  },
  {
   "cell_type": "markdown",
   "id": "b8a6e031-dde7-4178-a434-1edf0bd3fad7",
   "metadata": {},
   "source": [
    "On va maintenant chercher à imposer une contrainte 6D, en trouvant une configuration qui maintienne une relation constante sur translation et rotation. Choisissez une configuration, calculer le placement de la base et d'un des effecteurs, puis déduisez le placement de la base pour que l'effecteur soit à un emplacement particulier, par exemple 0. La configuration du robot doit être changée en convertissant la matrice de rotation en quaternion :\n"
   ]
  },
  {
   "cell_type": "code",
   "execution_count": null,
   "id": "2b52ecfe-cd1d-4779-9895-fb2abe576c7d",
   "metadata": {},
   "outputs": [],
   "source": [
    "Mbasis = pin.SE3.Random()\n",
    "q0[3:7] = pin.Quaternion(Mbasis.rotation).coeffs()"
   ]
  },
  {
   "cell_type": "markdown",
   "id": "9245b85a-5e7d-466e-b8c8-b4dc5e0aec3a",
   "metadata": {},
   "source": [
    "Voici la solution si besoin."
   ]
  },
  {
   "cell_type": "code",
   "execution_count": null,
   "id": "1643033b-b7f7-4fbd-9fb8-1cce543a5e67",
   "metadata": {},
   "outputs": [],
   "source": [
    "%do_not_load_snippet tp1/generated/handstand_5"
   ]
  }
 ],
 "metadata": {
  "kernelspec": {
   "display_name": "Python 3 (ipykernel)",
   "language": "python",
   "name": "python3"
  },
  "language_info": {
   "codemirror_mode": {
    "name": "ipython",
    "version": 3
   },
   "file_extension": ".py",
   "mimetype": "text/x-python",
   "name": "python",
   "nbconvert_exporter": "python",
   "pygments_lexer": "ipython3",
   "version": "3.10.12"
  }
 },
 "nbformat": 4,
 "nbformat_minor": 5
}
