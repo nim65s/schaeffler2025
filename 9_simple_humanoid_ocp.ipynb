{
 "cells": [
  {
   "cell_type": "markdown",
   "id": "83a8f205-5196-40b6-bff7-f58bf12b619c",
   "metadata": {},
   "source": [
    "# A complete view of Crocoddyl Pinocchio front-end\n",
    "This notebook presents a complete movement optimized for a humanoid robot in various contact states.\n",
    "We use the Differential Action Model (DAM) floating in contact, with two 6D contacts between the robot feet and the ground. \n",
    "The problem is then optimized with FDDP from a simple initial guess."
   ]
  },
  {
   "cell_type": "markdown",
   "id": "a441b90d-728e-46db-8737-5386e2f32648",
   "metadata": {},
   "source": [
    "## Setup"
   ]
  },
  {
   "cell_type": "code",
   "execution_count": 6,
   "id": "f2de29a4-be56-44d0-bb38-bf8433dcb168",
   "metadata": {},
   "outputs": [
    {
     "name": "stdout",
     "output_type": "stream",
     "text": [
      "NB: as for all the tutorials, a magic command %do_not_load is introduced to hide\n",
      "    the solutions to some questions. Change it for %load if you want to see (and\n",
      "    execute) the solution.\n"
     ]
    }
   ],
   "source": [
    "import gepetuto.magic"
   ]
  },
  {
   "cell_type": "markdown",
   "id": "ab004f59-9006-4021-b05b-2f8e7510611f",
   "metadata": {},
   "source": [
    "For this notebook, with need Crocoddyl 2 with Pinocchio 2 or 3, and Meshcat for display, nothing else."
   ]
  },
  {
   "cell_type": "code",
   "execution_count": 7,
   "id": "accf5591-2b3c-4234-965e-85feb2c16b35",
   "metadata": {},
   "outputs": [],
   "source": [
    "# %load tp4/generated/humanoid_taichi_import\n",
    "import example_robot_data as robex\n",
    "import numpy as np\n",
    "import pinocchio\n",
    "import crocoddyl\n"
   ]
  },
  {
   "cell_type": "markdown",
   "id": "b63880c5-4fa1-407e-b5b0-865fed48a92c",
   "metadata": {},
   "source": [
    "## Load robot and prepare the problem"
   ]
  },
  {
   "cell_type": "markdown",
   "id": "f800f698-4113-4f27-a5f4-e2fb8c675783",
   "metadata": {},
   "source": [
    "The robot is classically loaded from example-robot-data. We use Talos."
   ]
  },
  {
   "cell_type": "code",
   "execution_count": 8,
   "id": "9870f4e1-85b1-4098-8297-229baea4f1a6",
   "metadata": {},
   "outputs": [],
   "source": [
    "# %load tp4/generated/humanoid_taichi_loadrobot\n",
    "# ### Load robot\n",
    "robot = robex.load(\"talos\")\n",
    "robot_model = robot.model\n",
    "# The robot data will be used at config time to define some values of the OCP\n",
    "robot_data = robot_model.createData()\n"
   ]
  },
  {
   "cell_type": "markdown",
   "id": "46d6cdbe-3b7c-412e-94a4-bb4e6483d6f0",
   "metadata": {},
   "source": [
    "The movement will feature the hand reaching a target, both feet first in contact, then one foot leaving contact to reach succesively two targets. The COM must stay fixed during the movement. Let's define the quantities for that."
   ]
  },
  {
   "cell_type": "code",
   "execution_count": 9,
   "id": "85c148da-3091-494e-ab75-d36d6e008e5a",
   "metadata": {},
   "outputs": [],
   "source": [
    "# %load tp4/generated/humanoid_taichi_hyperparameters\n",
    "# ### Hyperparameters\n",
    "\n",
    "# Set integration time\n",
    "DT = 5e-2\n",
    "T = 40\n",
    "\n",
    "# Initialize reference state, target and reference CoM\n",
    "\n",
    "hand_frameName = \"gripper_left_joint\"\n",
    "rightFoot_frameName = \"right_sole_link\"\n",
    "leftFoot_frameName = \"left_sole_link\"\n",
    "\n",
    "# Main frame Ids\n",
    "hand_id = robot_model.getFrameId(hand_frameName)\n",
    "rightFoot_id = robot_model.getFrameId(rightFoot_frameName)\n",
    "leftFoot_id = robot_model.getFrameId(leftFoot_frameName)\n",
    "\n",
    "# Init state\n",
    "q0 = robot_model.referenceConfigurations[\"half_sitting\"]\n",
    "x0 = np.concatenate([q0, np.zeros(robot_model.nv)])\n",
    "\n",
    "# Reference quantities\n",
    "pinocchio.framesForwardKinematics(robot_model, robot_data, q0)\n",
    "comRef = (robot_data.oMf[rightFoot_id].translation + robot_data.oMf[leftFoot_id].translation) / 2\n",
    "comRef[2] = pinocchio.centerOfMass(robot_model, robot_data, q0)[2].item()\n",
    "\n",
    "in_world_M_foot_target_1 = pinocchio.SE3(np.eye(3), np.array([0.0, 0.4, 0.0]))\n",
    "in_world_M_foot_target_2 =  pinocchio.SE3(np.eye(3), np.array([0.3, 0.15, 0.35]))\n",
    "in_world_M_hand_target = pinocchio.SE3(np.eye(3), np.array([0.4, 0, 1.2]))\n"
   ]
  },
  {
   "cell_type": "markdown",
   "id": "5e6377e9-7a6c-4ab7-84fb-eb6b90b24353",
   "metadata": {},
   "source": [
    "## Action models"
   ]
  },
  {
   "cell_type": "markdown",
   "id": "866a722e-688e-46ba-8ada-d43e029b8acd",
   "metadata": {},
   "source": [
    "We define the smaller models first (state, actuation, contacts, costs) and finish with the DAM and action models."
   ]
  },
  {
   "cell_type": "markdown",
   "id": "4fe77aab-bde9-44ca-9c62-c907a19c6fe3",
   "metadata": {},
   "source": [
    "### State and action models "
   ]
  },
  {
   "cell_type": "markdown",
   "id": "fbfbd42c-4d8f-4413-ae61-9e42a9e432c9",
   "metadata": {},
   "source": [
    "The state model is classical for legged robots: the state \"multibody\" defines $x$ to be $x=(q,v_q)$.\n",
    "The actuation model is also classical: the joint torques are 0 for the free-flyer part, and $u$ for the rest, $\\tau_q = (0_6,u)$"
   ]
  },
  {
   "cell_type": "code",
   "execution_count": 10,
   "id": "11d13a99-011e-432b-881e-4aff89261e01",
   "metadata": {},
   "outputs": [],
   "source": [
    "# %load tp4/generated/humanoid_taichi_state\n",
    "state = crocoddyl.StateMultibody(robot_model)\n",
    "actuation = crocoddyl.ActuationModelFloatingBase(state)\n"
   ]
  },
  {
   "cell_type": "markdown",
   "id": "dc811d4d-1247-4d5b-8f9a-e7449c107d13",
   "metadata": {},
   "source": [
    "### Contact models"
   ]
  },
  {
   "cell_type": "markdown",
   "id": "1b0101c3-870a-4616-be9c-ff425840da98",
   "metadata": {},
   "source": [
    "We define one contact model per foot (right, and left). These are then used to define the full configuration mode for each timestep. In this example, the first timesteps are in double contact (right and left together); the final timesteps are in single contact (right only, left foot in the air)."
   ]
  },
  {
   "cell_type": "code",
   "execution_count": 11,
   "id": "0191895c-304d-4a45-852f-2e8e148b01cf",
   "metadata": {},
   "outputs": [],
   "source": [
    "# %load tp4/generated/humanoid_taichi_contacts\n",
    "# ### Contact model\n",
    "# Create two contact models used along the motion\n",
    "supportContactModelLeft = crocoddyl.ContactModel6D(\n",
    "    state,\n",
    "    leftFoot_id,\n",
    "    pinocchio.SE3.Identity(),\n",
    "    pinocchio.LOCAL,\n",
    "    actuation.nu,\n",
    "    np.array([0, 40]),\n",
    ")\n",
    "supportContactModelRight = crocoddyl.ContactModel6D(\n",
    "    state,\n",
    "    rightFoot_id,\n",
    "    pinocchio.SE3.Identity(),\n",
    "    pinocchio.LOCAL,\n",
    "    actuation.nu,\n",
    "    np.array([0, 40]),\n",
    ")\n",
    "\n",
    "contactModel1Foot = crocoddyl.ContactModelMultiple(state, actuation.nu)\n",
    "contactModel1Foot.addContact(rightFoot_frameName + \"_contact\", supportContactModelRight)\n",
    "\n",
    "contactModel2Feet = crocoddyl.ContactModelMultiple(state, actuation.nu)\n",
    "contactModel2Feet.addContact(leftFoot_frameName + \"_contact\", supportContactModelLeft)\n",
    "contactModel2Feet.addContact(rightFoot_frameName + \"_contact\", supportContactModelRight)\n"
   ]
  },
  {
   "cell_type": "markdown",
   "id": "cf10a5b3-78bc-4a19-b6eb-abe73850ce78",
   "metadata": {},
   "source": [
    "### Cost models"
   ]
  },
  {
   "cell_type": "markdown",
   "id": "e0da4b44-b33e-4f42-b2c8-7ef5f52ee228",
   "metadata": {},
   "source": [
    "We define costs for the state and control regularization, hand and left foot targets, COM no-motion, and to limit the range of motion (as a soft penalty)."
   ]
  },
  {
   "cell_type": "code",
   "execution_count": 12,
   "id": "4cdec9ae-3d0f-40f3-a607-2c8613b9d273",
   "metadata": {},
   "outputs": [],
   "source": [
    "# %load tp4/generated/humanoid_taichi_costs\n",
    "# ### Cost model\n",
    "# Cost for joint limits\n",
    "maxfloat = 1e25\n",
    "xlb = np.concatenate(\n",
    "    [\n",
    "        -maxfloat * np.ones(6),  # dimension of the SE(3) manifold\n",
    "        robot_model.lowerPositionLimit[7:],\n",
    "        -maxfloat * np.ones(state.nv),\n",
    "    ]\n",
    ")\n",
    "xub = np.concatenate(\n",
    "    [\n",
    "        maxfloat * np.ones(6),  # dimension of the SE(3) manifold\n",
    "        robot_model.upperPositionLimit[7:],\n",
    "        maxfloat * np.ones(state.nv),\n",
    "    ]\n",
    ")\n",
    "bounds = crocoddyl.ActivationBounds(xlb, xub, 1.0)\n",
    "xLimitResidual = crocoddyl.ResidualModelState(state, x0, actuation.nu)\n",
    "xLimitActivation = crocoddyl.ActivationModelQuadraticBarrier(bounds)\n",
    "limitCost = crocoddyl.CostModelResidual(state, xLimitActivation, xLimitResidual)\n",
    "\n",
    "# Cost for state and control\n",
    "xResidual = crocoddyl.ResidualModelState(state, x0, actuation.nu)\n",
    "xActivation = crocoddyl.ActivationModelWeightedQuad(\n",
    "    np.array([0] * 3 + [10.0] * 3 + [0.01] * (state.nv - 6) + [10] * state.nv) ** 2\n",
    ")\n",
    "uResidual = crocoddyl.ResidualModelControl(state, actuation.nu)\n",
    "xTActivation = crocoddyl.ActivationModelWeightedQuad(\n",
    "    np.array([0] * 3 + [10.0] * 3 + [0.01] * (state.nv - 6) + [100] * state.nv) ** 2\n",
    ")\n",
    "xRegCost = crocoddyl.CostModelResidual(state, xActivation, xResidual)\n",
    "uRegCost = crocoddyl.CostModelResidual(state, uResidual)\n",
    "xRegTermCost = crocoddyl.CostModelResidual(state, xTActivation, xResidual)\n",
    "\n",
    "# Cost for target reaching: hand and foot\n",
    "handTrackingResidual = crocoddyl.ResidualModelFramePlacement(\n",
    "    state, hand_id, in_world_M_hand_target, actuation.nu\n",
    ")\n",
    "handTrackingActivation = crocoddyl.ActivationModelWeightedQuad(\n",
    "    np.array([1] * 3 + [0.0001] * 3) ** 2\n",
    ")\n",
    "handTrackingCost = crocoddyl.CostModelResidual(\n",
    "    state, handTrackingActivation, handTrackingResidual\n",
    ")\n",
    "\n",
    "# For the flying foot, we define two targets to successively reach\n",
    "footTrackingResidual1 = crocoddyl.ResidualModelFramePlacement(\n",
    "    state, leftFoot_id, in_world_M_foot_target_1, actuation.nu\n",
    ")\n",
    "footTrackingActivation = crocoddyl.ActivationModelWeightedQuad(\n",
    "    np.array([1, 1, 0.1] + [1.0] * 3) ** 2\n",
    ")\n",
    "footTrackingCost1 = crocoddyl.CostModelResidual(\n",
    "    state, footTrackingActivation, footTrackingResidual1\n",
    ")\n",
    "footTrackingResidual2 = crocoddyl.ResidualModelFramePlacement(\n",
    "    state,\n",
    "    leftFoot_id,\n",
    "    in_world_M_foot_target_2,\n",
    "    actuation.nu,\n",
    ")\n",
    "footTrackingCost2 = crocoddyl.CostModelResidual(\n",
    "    state, footTrackingActivation, footTrackingResidual2\n",
    ")\n",
    "\n",
    "# Cost for CoM reference\n",
    "comResidual = crocoddyl.ResidualModelCoMPosition(state, comRef, actuation.nu)\n",
    "comTrack = crocoddyl.CostModelResidual(state, comResidual)\n"
   ]
  },
  {
   "cell_type": "markdown",
   "id": "fca37772-17ea-4146-bc9a-95bb40bc4d8e",
   "metadata": {},
   "source": [
    "### Action models"
   ]
  },
  {
   "cell_type": "markdown",
   "id": "66491f56-622d-47ae-a192-7fb78689ed5c",
   "metadata": {},
   "source": [
    "We define an action model for each phase of the motion. There are 3 phases, plus a terminal model. For each, we first define a DAM (from costs and contacts), then the integral action model."
   ]
  },
  {
   "cell_type": "code",
   "execution_count": 13,
   "id": "410ad2b5-8518-4c0f-be0a-d0846c3f0c9c",
   "metadata": {},
   "outputs": [],
   "source": [
    "# %load tp4/generated/humanoid_taichi_actions\n",
    "# Create cost model per each action model. We divide the motion in 3 phases plus its\n",
    "# terminal model.\n",
    "\n",
    "# Phase 1: two feet in contact, hand reach the target\n",
    "runningCostModel1 = crocoddyl.CostModelSum(state, actuation.nu)\n",
    "runningCostModel1.addCost(\"gripperPose\", handTrackingCost, 1e2)\n",
    "runningCostModel1.addCost(\"stateReg\", xRegCost, 1e-3)\n",
    "runningCostModel1.addCost(\"ctrlReg\", uRegCost, 1e-4)\n",
    "dmodelRunning1 = crocoddyl.DifferentialActionModelContactFwdDynamics(\n",
    "    state, actuation, contactModel2Feet, runningCostModel1\n",
    ")\n",
    "runningModel1 = crocoddyl.IntegratedActionModelEuler(dmodelRunning1, DT)\n",
    "\n",
    "# Phase 2: only right foot in contact, hand stays on target, left foot to target 1\n",
    "runningCostModel2 = crocoddyl.CostModelSum(state, actuation.nu)\n",
    "runningCostModel2.addCost(\"gripperPose\", handTrackingCost, 1e2)\n",
    "runningCostModel2.addCost(\"footPose\", footTrackingCost1, 1e1)\n",
    "runningCostModel2.addCost(\"stateReg\", xRegCost, 1e-3)\n",
    "runningCostModel2.addCost(\"ctrlReg\", uRegCost, 1e-4)\n",
    "dmodelRunning2 = crocoddyl.DifferentialActionModelContactFwdDynamics(\n",
    "    state, actuation, contactModel1Foot, runningCostModel2\n",
    ")\n",
    "runningModel2 = crocoddyl.IntegratedActionModelEuler(dmodelRunning2, DT)\n",
    "\n",
    "# Phase 3: only right foot in contact, hand stays on target, left foot to target 2\n",
    "runningCostModel3 = crocoddyl.CostModelSum(state, actuation.nu)\n",
    "runningCostModel3.addCost(\"gripperPose\", handTrackingCost, 1e2)\n",
    "runningCostModel3.addCost(\"footPose\", footTrackingCost2, 1e1)\n",
    "runningCostModel3.addCost(\"stateReg\", xRegCost, 1e-3)\n",
    "runningCostModel3.addCost(\"ctrlReg\", uRegCost, 1e-4)\n",
    "dmodelRunning3 = crocoddyl.DifferentialActionModelContactFwdDynamics(\n",
    "    state, actuation, contactModel1Foot, runningCostModel3\n",
    ")\n",
    "runningModel3 = crocoddyl.IntegratedActionModelEuler(dmodelRunning3, DT)\n",
    "\n",
    "# Terminal cost: nothing specific\n",
    "terminalCostModel = crocoddyl.CostModelSum(state, actuation.nu)\n",
    "terminalCostModel.addCost(\"gripperPose\", handTrackingCost, 1e2)\n",
    "terminalCostModel.addCost(\"stateReg\", xRegTermCost, 1e-3)\n",
    "dmodelTerminal = crocoddyl.DifferentialActionModelContactFwdDynamics(\n",
    "    state, actuation, contactModel1Foot, terminalCostModel\n",
    ")\n",
    "terminalModel = crocoddyl.IntegratedActionModelEuler(dmodelTerminal, 0)\n"
   ]
  },
  {
   "cell_type": "markdown",
   "id": "d65db2c1-ff92-4386-94bc-0350d8cdafda",
   "metadata": {},
   "source": [
    "## Write problem and solve"
   ]
  },
  {
   "cell_type": "markdown",
   "id": "8423b9c0-eeba-4305-9d4a-5bbc223bc099",
   "metadata": {},
   "source": [
    "### Write the OCP problem and create the solve."
   ]
  },
  {
   "cell_type": "markdown",
   "id": "f8fa0f1d-5148-491c-9226-a0190a343a05",
   "metadata": {},
   "source": [
    "The OCP is simply the collection of action models."
   ]
  },
  {
   "cell_type": "code",
   "execution_count": 14,
   "id": "355403f7-3755-4789-920c-fd3f20bf02c4",
   "metadata": {},
   "outputs": [],
   "source": [
    "# %load tp4/generated/humanoid_taichi_problem_and_solver\n",
    "problem = crocoddyl.ShootingProblem(\n",
    "    x0, [runningModel1] * T + [runningModel2] * T + [runningModel3] * T, terminalModel\n",
    ")\n",
    "\n",
    "# Creating the DDP solver for this OC problem, defining a logger\n",
    "solver = crocoddyl.SolverFDDP(problem)\n",
    "solver.th_stop = 1e-7\n",
    "solver.setCallbacks(\n",
    "    [\n",
    "        crocoddyl.CallbackVerbose(),\n",
    "        crocoddyl.CallbackLogger(),\n",
    "    ]\n",
    ")\n"
   ]
  },
  {
   "cell_type": "markdown",
   "id": "6ada3686-176b-416d-9980-2072fd7fd4eb",
   "metadata": {},
   "source": [
    "### and solve ..."
   ]
  },
  {
   "cell_type": "markdown",
   "id": "fcb812eb-d388-46ab-b01d-300e58b9ddbf",
   "metadata": {},
   "source": [
    "We solve from a nontrivial (but simple) initial trajectory. The states are chosen constant equal to the initial state. The control are compensating the gravity."
   ]
  },
  {
   "cell_type": "code",
   "execution_count": 15,
   "id": "0c8880f9-9e1d-4e62-a21b-41661e4b7720",
   "metadata": {},
   "outputs": [
    {
     "name": "stdout",
     "output_type": "stream",
     "text": [
      "iter    cost       merit      stop       grad       preg       dreg      step   ||ffeas||  ||gfeas||  ||hfeas||   dV-exp       dV      dPhi-exp     dPhi\n",
      "   0  1.685e+02  0.000e+00  1.757e+02  3.514e+02  1.000e-09  1.000e-09  0.0312  9.095e-14  0.000e+00  0.000e+00  1.081e+01  1.054e+01  0.000e+00  0.000e+00\n",
      "   1  1.591e+02  0.000e+00  1.652e+02  3.303e+02  1.000e-09  1.000e-09  0.0312  8.811e-14  0.000e+00  0.000e+00  1.016e+01  9.396e+00  0.000e+00  0.000e+00\n",
      "   2  1.506e+02  0.000e+00  1.558e+02  3.116e+02  1.000e-09  1.000e-09  0.0312  8.535e-14  0.000e+00  0.000e+00  9.584e+00  8.466e+00  0.000e+00  0.000e+00\n",
      "   3  1.424e+02  0.000e+00  1.473e+02  2.947e+02  1.000e-09  1.000e-09  0.0312  8.269e-14  0.000e+00  0.000e+00  9.064e+00  8.211e+00  0.000e+00  0.000e+00\n",
      "   4  1.341e+02  0.000e+00  1.391e+02  2.782e+02  1.000e-09  1.000e-09  0.0312  8.010e-14  0.000e+00  0.000e+00  8.559e+00  8.251e+00  0.000e+00  0.000e+00\n",
      "   5  1.261e+02  0.000e+00  1.309e+02  2.618e+02  1.000e-09  1.000e-09  0.0312  7.760e-14  0.000e+00  0.000e+00  8.052e+00  7.986e+00  0.000e+00  0.000e+00\n",
      "   6  1.186e+02  0.000e+00  1.229e+02  2.458e+02  1.000e-09  1.000e-09  0.0312  7.517e-14  0.000e+00  0.000e+00  7.561e+00  7.519e+00  0.000e+00  0.000e+00\n",
      "   7  1.116e+02  0.000e+00  1.154e+02  2.308e+02  1.000e-09  1.000e-09  0.0312  7.283e-14  0.000e+00  0.000e+00  7.099e+00  7.046e+00  0.000e+00  0.000e+00\n",
      "   8  1.050e+02  0.000e+00  1.084e+02  2.167e+02  1.000e-09  1.000e-09  0.0312  7.055e-14  0.000e+00  0.000e+00  6.666e+00  6.611e+00  0.000e+00  0.000e+00\n",
      "   9  9.876e+01  0.000e+00  1.017e+02  2.035e+02  1.000e-09  1.000e-09  0.0312  6.834e-14  0.000e+00  0.000e+00  6.260e+00  6.209e+00  0.000e+00  0.000e+00\n",
      "iter    cost       merit      stop       grad       preg       dreg      step   ||ffeas||  ||gfeas||  ||hfeas||   dV-exp       dV      dPhi-exp     dPhi\n",
      "  10  9.293e+01  0.000e+00  9.554e+01  1.911e+02  1.000e-09  1.000e-09  0.0312  6.621e-14  0.000e+00  0.000e+00  5.878e+00  5.835e+00  0.000e+00  0.000e+00\n",
      "  11  8.744e+01  0.000e+00  8.971e+01  1.794e+02  1.000e-09  1.000e-09  0.0312  6.414e-14  0.000e+00  0.000e+00  5.519e+00  5.485e+00  0.000e+00  0.000e+00\n",
      "  12  8.229e+01  0.000e+00  8.423e+01  1.685e+02  1.000e-09  1.000e-09  0.0312  6.214e-14  0.000e+00  0.000e+00  5.182e+00  5.156e+00  0.000e+00  0.000e+00\n",
      "  13  7.744e+01  0.000e+00  7.908e+01  1.582e+02  1.000e-09  1.000e-09  0.0312  6.019e-14  0.000e+00  0.000e+00  4.865e+00  4.847e+00  0.000e+00  0.000e+00\n",
      "  14  7.288e+01  0.000e+00  7.423e+01  1.485e+02  1.000e-09  1.000e-09  0.0312  5.831e-14  0.000e+00  0.000e+00  4.567e+00  4.556e+00  0.000e+00  0.000e+00\n",
      "  15  6.860e+01  0.000e+00  6.968e+01  1.394e+02  1.000e-09  1.000e-09  0.0312  5.649e-14  0.000e+00  0.000e+00  4.287e+00  4.282e+00  0.000e+00  0.000e+00\n",
      "  16  6.458e+01  0.000e+00  6.540e+01  1.308e+02  1.000e-09  1.000e-09  0.0312  5.473e-14  0.000e+00  0.000e+00  4.024e+00  4.023e+00  0.000e+00  0.000e+00\n",
      "  17  6.080e+01  0.000e+00  6.138e+01  1.228e+02  1.000e-09  1.000e-09  0.0312  5.302e-14  0.000e+00  0.000e+00  3.776e+00  3.779e+00  0.000e+00  0.000e+00\n",
      "  18  5.504e+01  0.000e+00  5.760e+01  1.152e+02  1.000e-09  1.000e-09  0.0625  5.136e-14  0.000e+00  0.000e+00  6.975e+00  5.758e+00  0.000e+00  0.000e+00\n",
      "  19  4.869e+01  0.000e+00  5.185e+01  1.037e+02  1.000e-09  1.000e-09  0.0625  4.815e-14  0.000e+00  0.000e+00  6.279e+00  6.347e+00  0.000e+00  0.000e+00\n",
      "iter    cost       merit      stop       grad       preg       dreg      step   ||ffeas||  ||gfeas||  ||hfeas||   dV-exp       dV      dPhi-exp     dPhi\n",
      "  20  4.344e+01  0.000e+00  4.551e+01  9.101e+01  1.000e-09  1.000e-09  0.0625  4.514e-14  0.000e+00  0.000e+00  5.510e+00  5.250e+00  0.000e+00  0.000e+00\n",
      "  21  4.188e+01  0.000e+00  4.026e+01  8.052e+01  1.000e-09  1.000e-09  0.0625  4.232e-14  0.000e+00  0.000e+00  4.875e+00  1.567e+00  0.000e+00  0.000e+00\n",
      "  22  3.807e+01  0.000e+00  3.869e+01  7.739e+01  1.000e-09  1.000e-09  0.1250  3.968e-14  0.000e+00  0.000e+00  9.069e+00  3.810e+00  0.000e+00  0.000e+00\n",
      "  23  3.543e+01  0.000e+00  3.489e+01  6.978e+01  1.000e-09  1.000e-09  0.0625  3.472e-14  0.000e+00  0.000e+00  4.225e+00  2.632e+00  0.000e+00  0.000e+00\n",
      "  24  3.153e+01  0.000e+00  3.226e+01  6.452e+01  1.000e-09  1.000e-09  0.0625  3.255e-14  0.000e+00  0.000e+00  3.906e+00  3.903e+00  0.000e+00  0.000e+00\n",
      "  25  2.788e+01  0.000e+00  2.836e+01  5.672e+01  1.000e-09  1.000e-09  0.0625  3.052e-14  0.000e+00  0.000e+00  3.434e+00  3.651e+00  0.000e+00  0.000e+00\n",
      "  26  2.377e+01  0.000e+00  2.471e+01  4.942e+01  1.000e-09  1.000e-09  0.1250  2.861e-14  0.000e+00  0.000e+00  5.792e+00  4.107e+00  0.000e+00  0.000e+00\n",
      "  27  1.761e+01  0.000e+00  2.060e+01  4.120e+01  1.000e-09  1.000e-09  0.1250  2.504e-14  0.000e+00  0.000e+00  4.828e+00  6.166e+00  0.000e+00  0.000e+00\n",
      "  28  1.421e+01  0.000e+00  1.444e+01  2.889e+01  1.000e-09  1.000e-09  0.1250  2.191e-14  0.000e+00  0.000e+00  3.385e+00  3.399e+00  0.000e+00  0.000e+00\n",
      "  29  1.194e+01  0.000e+00  1.105e+01  2.211e+01  1.000e-09  1.000e-09  0.1250  1.917e-14  0.000e+00  0.000e+00  2.591e+00  2.269e+00  0.000e+00  0.000e+00\n",
      "iter    cost       merit      stop       grad       preg       dreg      step   ||ffeas||  ||gfeas||  ||hfeas||   dV-exp       dV      dPhi-exp     dPhi\n",
      "  30  1.028e+01  0.000e+00  8.792e+00  1.758e+01  1.000e-09  1.000e-09  0.1250  1.677e-14  0.000e+00  0.000e+00  2.061e+00  1.662e+00  0.000e+00  0.000e+00\n",
      "  31  8.882e+00  0.000e+00  7.135e+00  1.427e+01  1.000e-09  1.000e-09  0.1250  1.468e-14  0.000e+00  0.000e+00  1.672e+00  1.395e+00  0.000e+00  0.000e+00\n",
      "  32  7.706e+00  0.000e+00  5.744e+00  1.149e+01  1.000e-09  1.000e-09  0.1250  1.284e-14  0.000e+00  0.000e+00  1.346e+00  1.176e+00  0.000e+00  0.000e+00\n",
      "  33  6.734e+00  0.000e+00  4.571e+00  9.143e+00  1.000e-09  1.000e-09  0.1250  1.124e-14  0.000e+00  0.000e+00  1.071e+00  9.714e-01  0.000e+00  0.000e+00\n",
      "  34  5.711e+00  0.000e+00  3.603e+00  7.205e+00  1.000e-09  1.000e-09  0.2500  9.839e-15  0.000e+00  0.000e+00  1.576e+00  1.023e+00  0.000e+00  0.000e+00\n",
      "  35  4.468e+00  0.000e+00  2.584e+00  5.167e+00  1.000e-09  1.000e-09  0.2500  7.383e-15  0.000e+00  0.000e+00  1.130e+00  1.244e+00  0.000e+00  0.000e+00\n",
      "  36  3.889e+00  0.000e+00  1.343e+00  2.685e+00  1.000e-09  1.000e-09  0.2500  5.537e-15  0.000e+00  0.000e+00  5.873e-01  5.787e-01  0.000e+00  0.000e+00\n",
      "  37  3.562e+00  0.000e+00  7.656e-01  1.531e+00  1.000e-09  1.000e-09  0.2500  4.149e-15  0.000e+00  0.000e+00  3.349e-01  3.266e-01  0.000e+00  0.000e+00\n",
      "  38  3.374e+00  0.000e+00  4.401e-01  8.802e-01  1.000e-09  1.000e-09  0.2500  3.116e-15  0.000e+00  0.000e+00  1.925e-01  1.882e-01  0.000e+00  0.000e+00\n",
      "  39  3.200e+00  0.000e+00  2.527e-01  5.053e-01  1.000e-09  1.000e-09  0.5000  2.338e-15  0.000e+00  0.000e+00  1.895e-01  1.742e-01  0.000e+00  0.000e+00\n",
      "iter    cost       merit      stop       grad       preg       dreg      step   ||ffeas||  ||gfeas||  ||hfeas||   dV-exp       dV      dPhi-exp     dPhi\n",
      "  40  3.123e+00  0.000e+00  7.946e-02  1.589e-01  1.000e-09  1.000e-09  1.0000  1.173e-15  0.000e+00  0.000e+00  7.946e-02  7.689e-02  0.000e+00  0.000e+00\n",
      "  41  3.120e+00  0.000e+00  3.336e-03  6.672e-03  1.000e-09  1.000e-09  1.0000  0.000e+00  0.000e+00  0.000e+00  3.336e-03  2.616e-03  0.000e+00  0.000e+00\n",
      "  42  3.119e+00  0.000e+00  9.304e-04  1.861e-03  1.000e-09  1.000e-09  1.0000  0.000e+00  0.000e+00  0.000e+00  9.304e-04  8.689e-04  0.000e+00  0.000e+00\n",
      "  43  3.119e+00  0.000e+00  1.814e-04  3.628e-04  1.000e-09  1.000e-09  1.0000  0.000e+00  0.000e+00  0.000e+00  1.814e-04  2.211e-04  0.000e+00  0.000e+00\n",
      "  44  3.119e+00  0.000e+00  4.426e-05  8.852e-05  1.000e-09  1.000e-09  1.0000  0.000e+00  0.000e+00  0.000e+00  4.426e-05  6.918e-05  0.000e+00  0.000e+00\n",
      "  45  3.119e+00  0.000e+00  4.015e-05  8.030e-05  1.000e-09  1.000e-09  1.0000  0.000e+00  0.000e+00  0.000e+00  4.015e-05  4.588e-05  0.000e+00  0.000e+00\n",
      "  46  3.119e+00  0.000e+00  5.565e-05  1.113e-04  1.000e-09  1.000e-09  0.5000  0.000e+00  0.000e+00  0.000e+00  4.174e-05  2.556e-05  0.000e+00  0.000e+00\n",
      "  47  3.119e+00  0.000e+00  3.177e-05  6.354e-05  1.000e-09  1.000e-09  1.0000  0.000e+00  0.000e+00  0.000e+00  3.177e-05  1.229e-05  0.000e+00  0.000e+00\n",
      "  48  3.119e+00  0.000e+00  9.175e-05  1.835e-04  1.000e-09  1.000e-09  0.5000  0.000e+00  0.000e+00  0.000e+00  6.881e-05  2.026e-05  0.000e+00  0.000e+00\n",
      "  49  3.119e+00  0.000e+00  5.303e-05  1.061e-04  1.000e-09  1.000e-09  0.5000  0.000e+00  0.000e+00  0.000e+00  3.977e-05  1.629e-05  0.000e+00  0.000e+00\n",
      "iter    cost       merit      stop       grad       preg       dreg      step   ||ffeas||  ||gfeas||  ||hfeas||   dV-exp       dV      dPhi-exp     dPhi\n",
      "  50  3.119e+00  0.000e+00  2.782e-05  5.564e-05  1.000e-09  1.000e-09  0.5000  0.000e+00  0.000e+00  0.000e+00  2.086e-05  1.009e-05  0.000e+00  0.000e+00\n",
      "  51  3.119e+00  0.000e+00  1.674e-05  3.347e-05  1.000e-09  1.000e-09  0.5000  0.000e+00  0.000e+00  0.000e+00  1.255e-05  8.034e-06  0.000e+00  0.000e+00\n",
      "  52  3.119e+00  0.000e+00  1.004e-05  2.007e-05  1.000e-09  1.000e-09  1.0000  0.000e+00  0.000e+00  0.000e+00  1.004e-05  2.397e-06  0.000e+00  0.000e+00\n",
      "  53  3.119e+00  0.000e+00  3.071e-05  6.142e-05  1.000e-09  1.000e-09  0.5000  0.000e+00  0.000e+00  0.000e+00  2.303e-05  7.860e-06  0.000e+00  0.000e+00\n",
      "  54  3.119e+00  0.000e+00  1.465e-05  2.931e-05  1.000e-09  1.000e-09  0.5000  0.000e+00  0.000e+00  0.000e+00  1.099e-05  4.355e-06  0.000e+00  0.000e+00\n",
      "  55  3.119e+00  0.000e+00  7.969e-06  1.594e-05  1.000e-09  1.000e-09  0.5000  0.000e+00  0.000e+00  0.000e+00  5.977e-06  3.120e-06  0.000e+00  0.000e+00\n",
      "  56  3.119e+00  0.000e+00  4.347e-06  8.694e-06  1.000e-09  1.000e-09  0.5000  0.000e+00  0.000e+00  0.000e+00  3.260e-06  2.090e-06  0.000e+00  0.000e+00\n",
      "  57  3.119e+00  0.000e+00  2.627e-06  5.253e-06  1.000e-09  1.000e-09  1.0000  0.000e+00  0.000e+00  0.000e+00  2.627e-06  1.036e-06  0.000e+00  0.000e+00\n",
      "  58  3.119e+00  0.000e+00  7.243e-06  1.449e-05  1.000e-09  1.000e-09  0.5000  0.000e+00  0.000e+00  0.000e+00  5.432e-06  1.813e-06  0.000e+00  0.000e+00\n",
      "  59  3.119e+00  0.000e+00  3.636e-06  7.271e-06  1.000e-09  1.000e-09  0.5000  0.000e+00  0.000e+00  0.000e+00  2.727e-06  1.156e-06  0.000e+00  0.000e+00\n",
      "iter    cost       merit      stop       grad       preg       dreg      step   ||ffeas||  ||gfeas||  ||hfeas||   dV-exp       dV      dPhi-exp     dPhi\n",
      "  60  3.119e+00  0.000e+00  1.834e-06  3.668e-06  1.000e-09  1.000e-09  0.5000  0.000e+00  0.000e+00  0.000e+00  1.375e-06  7.233e-07  0.000e+00  0.000e+00\n",
      "  61  3.119e+00  0.000e+00  1.013e-06  2.027e-06  1.000e-09  1.000e-09  0.5000  0.000e+00  0.000e+00  0.000e+00  7.600e-07  5.093e-07  0.000e+00  0.000e+00\n",
      "  62  3.119e+00  0.000e+00  5.954e-07  1.191e-06  1.000e-09  1.000e-09  1.0000  0.000e+00  0.000e+00  0.000e+00  5.954e-07  2.570e-07  0.000e+00  0.000e+00\n",
      "  63  3.119e+00  0.000e+00  1.592e-06  3.183e-06  1.000e-09  1.000e-09  0.5000  0.000e+00  0.000e+00  0.000e+00  1.194e-06  4.290e-07  0.000e+00  0.000e+00\n",
      "  64  3.119e+00  0.000e+00  7.609e-07  1.522e-06  1.000e-09  1.000e-09  0.5000  0.000e+00  0.000e+00  0.000e+00  5.706e-07  2.503e-07  0.000e+00  0.000e+00\n",
      "  65  3.119e+00  0.000e+00  3.919e-07  7.838e-07  1.000e-09  1.000e-09  0.5000  0.000e+00  0.000e+00  0.000e+00  2.939e-07  1.643e-07  0.000e+00  0.000e+00\n",
      "  66  3.119e+00  0.000e+00  2.143e-07  4.286e-07  1.000e-09  1.000e-09  0.5000  0.000e+00  0.000e+00  0.000e+00  1.607e-07  1.122e-07  0.000e+00  0.000e+00\n",
      "  67  3.119e+00  0.000e+00  1.281e-07  2.561e-07  1.000e-09  1.000e-09  1.0000  0.000e+00  0.000e+00  0.000e+00  1.281e-07  7.017e-08  0.000e+00  0.000e+00\n",
      "  68  3.119e+00  0.000e+00  3.179e-07  6.358e-07  1.000e-09  1.000e-09  0.5000  0.000e+00  0.000e+00  0.000e+00  2.384e-07  8.865e-08  0.000e+00  0.000e+00\n",
      "  69  3.119e+00  0.000e+00  1.550e-07  3.100e-07  1.000e-09  1.000e-09  0.5000  0.000e+00  0.000e+00  0.000e+00  1.162e-07  5.403e-08  0.000e+00  0.000e+00\n"
     ]
    },
    {
     "data": {
      "text/plain": [
       "True"
      ]
     },
     "execution_count": 15,
     "metadata": {},
     "output_type": "execute_result"
    },
    {
     "name": "stdout",
     "output_type": "stream",
     "text": [
      "iter    cost       merit      stop       grad       preg       dreg      step   ||ffeas||  ||gfeas||  ||hfeas||   dV-exp       dV      dPhi-exp     dPhi\n",
      "  70  3.119e+00  0.000e+00  7.956e-08  1.591e-07  1.000e-09  1.000e-09  0.5000  0.000e+00  0.000e+00  0.000e+00  5.967e-08  3.500e-08  0.000e+00  0.000e+00\n"
     ]
    }
   ],
   "source": [
    "# %load tp4/generated/humanoid_taichi_solve\n",
    "# ### Warm start from quasistatic solutions\n",
    "xs = [x0] * (solver.problem.T + 1)\n",
    "us = solver.problem.quasiStatic([x0] * solver.problem.T)\n",
    "solver.solve(xs, us, 500, False, 1e-9)\n"
   ]
  },
  {
   "cell_type": "markdown",
   "id": "c7435a02-94dc-435a-a536-5eaf0e1fc948",
   "metadata": {},
   "source": [
    "### Display to finish"
   ]
  },
  {
   "cell_type": "code",
   "execution_count": 17,
   "id": "16e0e0ac-5157-4059-bd9e-e61b2b68e56d",
   "metadata": {},
   "outputs": [
    {
     "name": "stdout",
     "output_type": "stream",
     "text": [
      "*** You asked to start meshcat \"classically\" in tcp://127.0.0.1:6000\n",
      "*** Did you start meshcat manually (meshcat-server)\n",
      "Wrapper tries to connect to server <tcp://127.0.0.1:6000>\n",
      "You can open the visualizer by visiting the following URL:\n",
      "http://127.0.0.1:7000/static/\n"
     ]
    }
   ],
   "source": [
    "# %load tp4/generated/humanoid_taichi_init_display\n",
    "# ### DISPLAY\n",
    "# Initialize viewer\n",
    "from schaeffler2025.meshcat_viewer_wrapper import MeshcatVisualizer\n",
    "viz = MeshcatVisualizer(robot)\n",
    "viz.display(robot.q0)\n"
   ]
  },
  {
   "cell_type": "code",
   "execution_count": 18,
   "id": "c9a46df0-35c0-486b-ab96-9977492ae1df",
   "metadata": {},
   "outputs": [
    {
     "data": {
      "text/html": [
       "\n",
       "            <div style=\"height: 400px; width: 100%; overflow-x: auto; overflow-y: hidden; resize: both\">\n",
       "            <iframe src=\"http://127.0.0.1:7000/static/\" style=\"width: 100%; height: 100%; border: none\"></iframe>\n",
       "            </div>\n",
       "            "
      ],
      "text/plain": [
       "<IPython.core.display.HTML object>"
      ]
     },
     "execution_count": 18,
     "metadata": {},
     "output_type": "execute_result"
    }
   ],
   "source": [
    "viz.viewer.jupyter_cell()"
   ]
  },
  {
   "cell_type": "code",
   "execution_count": 19,
   "id": "ed84f4aa-df55-4f31-9e69-d527818a21c2",
   "metadata": {},
   "outputs": [],
   "source": [
    "# %load tp4/generated/humanoid_taichi_display\n",
    "viz.play([x[:robot.model.nq] for x in solver.xs],DT)\n"
   ]
  },
  {
   "cell_type": "code",
   "execution_count": null,
   "id": "8eb05794-218a-45ab-9086-a83b1168698f",
   "metadata": {},
   "outputs": [],
   "source": []
  }
 ],
 "metadata": {
  "kernelspec": {
   "display_name": "Python 3 (ipykernel)",
   "language": "python",
   "name": "python3"
  },
  "language_info": {
   "codemirror_mode": {
    "name": "ipython",
    "version": 3
   },
   "file_extension": ".py",
   "mimetype": "text/x-python",
   "name": "python",
   "nbconvert_exporter": "python",
   "pygments_lexer": "ipython3",
   "version": "3.10.12"
  }
 },
 "nbformat": 4,
 "nbformat_minor": 5
}
