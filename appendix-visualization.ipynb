{
 "cells": [
  {
   "cell_type": "code",
   "execution_count": null,
   "id": "07425606-0984-429c-9a45-f84fbd3fa4d7",
   "metadata": {},
   "outputs": [],
   "source": [
    "from time import sleep\n",
    "\n",
    "import gymnasium as gym\n",
    "from ipycanvas import Canvas\n",
    "\n",
    "env = gym.make('CartPole-v1',render_mode='rgb_array')\n",
    "env.reset()\n",
    "\n",
    "canvas = Canvas(width=400, height=600)\n",
    "display(canvas)\n",
    "\n",
    "for j in range(200):\n",
    "    _, _, terminated, _, _ = env.step(j%2)\n",
    "    canvas.put_image_data(env.render(), 0, 0)\n",
    "    sleep(0.01)"
   ]
  },
  {
   "cell_type": "code",
   "execution_count": null,
   "id": "5ff4dd4a-cb0b-4f06-8784-8905c5b263ab",
   "metadata": {},
   "outputs": [],
   "source": [
    "from math import pi\n",
    "\n",
    "from ipywidgets import interact\n",
    "\n",
    "from example_robot_data import load\n",
    "from pinocchio.visualize import MeshcatVisualizer"
   ]
  },
  {
   "cell_type": "code",
   "execution_count": null,
   "id": "bbf3d363-143b-4aa5-9c03-c0fe20951556",
   "metadata": {},
   "outputs": [],
   "source": [
    "talos = load(\"talos\")\n",
    "viz = MeshcatVisualizer(talos.model, talos.collision_model, talos.visual_model)\n",
    "viz.initViewer(loadModel=True)\n",
    "viz.viewer.window.web_url = viz.viewer.window.web_url.replace(\"127.0.0.1\", \"hako.laas.fr\")\n",
    "viz.viewer.jupyter_cell()"
   ]
  },
  {
   "cell_type": "code",
   "execution_count": null,
   "id": "713741de-e225-4a50-b83a-5724bbde2893",
   "metadata": {},
   "outputs": [],
   "source": [
    "q0 = talos.q0\n",
    "viz.display(q0)"
   ]
  },
  {
   "cell_type": "code",
   "execution_count": null,
   "id": "3d37b9b4-65b1-46de-9ab8-ffb8cacee623",
   "metadata": {},
   "outputs": [],
   "source": [
    "@interact(shoulder=(-0.5, 0.5, 0.01))\n",
    "def say_hi(shoulder=0):\n",
    "    q0[30] = pi - shoulder\n",
    "    viz.display(q0)"
   ]
  },
  {
   "cell_type": "markdown",
   "id": "4d85b995-92be-498c-8e93-147ba3ee571e",
   "metadata": {},
   "source": [
    "## Possible alternative for gym display (through MP4)"
   ]
  },
  {
   "cell_type": "markdown",
   "id": "ffc991a7-4b31-4393-82cd-d72ad3acbea5",
   "metadata": {},
   "source": [
    "#### Through MP4 embed\n",
    "Second solution: the function below can render a video in the notebook.\n",
    "\n",
    "*(taken from https://medium.com/@coldstart_coder/visually-rendering-python-gymnasium-in-jupyter-notebooks-4413e4087a0f)*"
   ]
  },
  {
   "cell_type": "code",
   "execution_count": null,
   "id": "d6eb52f3-c3a7-4b43-8c9f-13b2fac679c2",
   "metadata": {},
   "outputs": [],
   "source": [
    "from pyvirtualdisplay import Display\n",
    "display = Display(visible=0, size=(1400, 900))\n",
    "display.start()\n",
    "\n",
    "import io\n",
    "import base64\n",
    "from IPython import display\n",
    "from IPython.display import HTML\n",
    "# this function will take in the location of a video file and\n",
    "# then use the virtual display to embed the video into the notebook\n",
    "def embed_video(video_file):\n",
    "    # open and read the raw data from the video\n",
    "    video_data = io.open(video_file, 'r+b').read()\n",
    "    # now we have to encode the data into base64 to work\n",
    "    # with the virtual display\n",
    "    encoded_data = base64.b64encode(video_data)\n",
    "    # now we use the display.display function to take some html\n",
    "    # and the encoded data and embed the html into the notebook!\n",
    "    display.display(HTML(data='''<video alt=\"test\" autoplay\n",
    "                loop controls style=\"height: 400px;\">\n",
    "                <source src=\"data:video/mp4;base64,{0}\" type=\"video/mp4\" />\n",
    "                </video>'''.format(encoded_data.decode('ascii'))))"
   ]
  },
  {
   "cell_type": "markdown",
   "id": "df5da340-be63-4d31-abae-62e64434a041",
   "metadata": {},
   "source": [
    "Then run your environment in a RecordVideo wrapper."
   ]
  },
  {
   "cell_type": "code",
   "execution_count": null,
   "id": "fefd6734-d1c9-45e7-b6a0-1f199ea65c4a",
   "metadata": {},
   "outputs": [],
   "source": [
    "import gymnasium as gym\n",
    "from gymnasium.wrappers import RecordEpisodeStatistics, RecordVideo\n",
    "\n",
    "env = gym.make(\"CartPole-v1\", render_mode=\"rgb_array\")\n"
   ]
  },
  {
   "cell_type": "code",
   "execution_count": null,
   "id": "da89e678-f098-4154-857d-6fcb9a7d903b",
   "metadata": {},
   "outputs": [],
   "source": [
    "# By default, record only video of n**3 episods (when the episod is a natural cube). Change it to record the 20 first episods.\n",
    "envr = RecordVideo(env, '/tmp/video', episode_trigger=lambda i: i<20)"
   ]
  },
  {
   "cell_type": "code",
   "execution_count": null,
   "id": "93cd425c-2157-459c-81aa-d7879d5ed302",
   "metadata": {},
   "outputs": [],
   "source": [
    "envr.reset()\n",
    "for i in range(100):    # render the frame, this will save it to the video file\n",
    "    envr.step(i % 2)\n",
    "    envr.render()\n",
    "envr.close() # Dont forget to close, then is encoded the video"
   ]
  },
  {
   "cell_type": "code",
   "execution_count": null,
   "id": "031815f1-6167-4bdb-af5b-42aeb910f3ea",
   "metadata": {},
   "outputs": [],
   "source": [
    "# Take care to read the video with the proper episod numero\n",
    "embed_video(\"/tmp/video/rl-video-episode-2.mp4\")"
   ]
  }
 ],
 "metadata": {
  "kernelspec": {
   "display_name": "Python 3 (ipykernel)",
   "language": "python",
   "name": "python3"
  },
  "language_info": {
   "codemirror_mode": {
    "name": "ipython",
    "version": 3
   },
   "file_extension": ".py",
   "mimetype": "text/x-python",
   "name": "python",
   "nbconvert_exporter": "python",
   "pygments_lexer": "ipython3",
   "version": "3.10.12"
  }
 },
 "nbformat": 4,
 "nbformat_minor": 5
}
