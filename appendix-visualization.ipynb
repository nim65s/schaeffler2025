{
 "cells": [
  {
   "cell_type": "code",
   "execution_count": null,
   "id": "07425606-0984-429c-9a45-f84fbd3fa4d7",
   "metadata": {},
   "outputs": [],
   "source": [
    "from time import sleep\n",
    "\n",
    "import gymnasium as gym\n",
    "from ipycanvas import Canvas\n",
    "\n",
    "env = gym.make('CartPole-v1',render_mode='rgb_array')\n",
    "env.reset()\n",
    "\n",
    "canvas = Canvas(width=400, height=600)\n",
    "display(canvas)\n",
    "\n",
    "for j in range(200):\n",
    "    _, _, terminated, _, _ = env.step(j%2)\n",
    "    canvas.put_image_data(env.render(), 0, 0)\n",
    "    sleep(0.01)"
   ]
  },
  {
   "cell_type": "code",
   "execution_count": null,
   "id": "5ff4dd4a-cb0b-4f06-8784-8905c5b263ab",
   "metadata": {},
   "outputs": [],
   "source": [
    "from math import pi\n",
    "\n",
    "from ipywidgets import interact\n",
    "\n",
    "from example_robot_data import load\n",
    "from pinocchio.visualize import MeshcatVisualizer"
   ]
  },
  {
   "cell_type": "code",
   "execution_count": null,
   "id": "bbf3d363-143b-4aa5-9c03-c0fe20951556",
   "metadata": {},
   "outputs": [],
   "source": [
    "talos = load(\"talos\")\n",
    "viz = MeshcatVisualizer(talos.model, talos.collision_model, talos.visual_model)\n",
    "viz.initViewer(loadModel=True)\n",
    "viz.viewer.window.web_url = viz.viewer.window.web_url.replace(\"127.0.0.1\", \"hako.laas.fr\")\n",
    "viz.viewer.jupyter_cell()"
   ]
  },
  {
   "cell_type": "code",
   "execution_count": null,
   "id": "713741de-e225-4a50-b83a-5724bbde2893",
   "metadata": {},
   "outputs": [],
   "source": [
    "q0 = talos.q0\n",
    "viz.display(q0)"
   ]
  },
  {
   "cell_type": "code",
   "execution_count": null,
   "id": "3d37b9b4-65b1-46de-9ab8-ffb8cacee623",
   "metadata": {},
   "outputs": [],
   "source": [
    "@interact(shoulder=(-0.5, 0.5, 0.01))\n",
    "def say_hi(shoulder=0):\n",
    "    q0[30] = pi - shoulder\n",
    "    viz.display(q0)"
   ]
  },
  {
   "cell_type": "code",
   "execution_count": null,
   "id": "7b0e66a4-4494-48a9-aaeb-d01f7947d5d5",
   "metadata": {},
   "outputs": [],
   "source": []
  }
 ],
 "metadata": {
  "kernelspec": {
   "display_name": "Python 3 (ipykernel)",
   "language": "python",
   "name": "python3"
  },
  "language_info": {
   "codemirror_mode": {
    "name": "ipython",
    "version": 3
   },
   "file_extension": ".py",
   "mimetype": "text/x-python",
   "name": "python",
   "nbconvert_exporter": "python",
   "pygments_lexer": "ipython3",
   "version": "3.10.12"
  }
 },
 "nbformat": 4,
 "nbformat_minor": 5
}
